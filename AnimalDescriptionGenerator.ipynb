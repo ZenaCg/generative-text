{
 "cells": [
  {
   "cell_type": "code",
   "execution_count": 1,
   "metadata": {},
   "outputs": [
    {
     "name": "stderr",
     "output_type": "stream",
     "text": [
      "/opt/conda/lib/python3.6/site-packages/h5py/__init__.py:36: FutureWarning: Conversion of the second argument of issubdtype from `float` to `np.floating` is deprecated. In future, it will be treated as `np.float64 == np.dtype(float).type`.\n",
      "  from ._conv import register_converters as _register_converters\n"
     ]
    }
   ],
   "source": [
    "from __future__ import absolute_import, division, print_function\n",
    "\n",
    "import tensorflow as tf\n",
    "tf.enable_eager_execution()\n",
    "\n",
    "import numpy as np\n",
    "import os\n",
    "import time"
   ]
  },
  {
   "cell_type": "code",
   "execution_count": 2,
   "metadata": {},
   "outputs": [],
   "source": [
    "path_to_file = \"animal_texts_.txt\";"
   ]
  },
  {
   "cell_type": "code",
   "execution_count": 3,
   "metadata": {},
   "outputs": [
    {
     "name": "stdout",
     "output_type": "stream",
     "text": [
      "Length of text: 1778730 characters\n",
      "87 unique characters\n"
     ]
    }
   ],
   "source": [
    "text = open(path_to_file, 'rb').read().decode(encoding='utf-8')\n",
    "print ('Length of text: {} characters'.format(len(text)))\n",
    "vocab = sorted(set(text))\n",
    "print ('{} unique characters'.format(len(vocab)))"
   ]
  },
  {
   "cell_type": "code",
   "execution_count": 4,
   "metadata": {},
   "outputs": [],
   "source": [
    "char2idx = {u:i for i, u in enumerate(vocab)}\n",
    "idx2char = np.array(vocab)\n",
    "text_as_int = np.array([char2idx[c] for c in text])"
   ]
  },
  {
   "cell_type": "code",
   "execution_count": 5,
   "metadata": {},
   "outputs": [],
   "source": [
    "# The maximum length sentence we want for a single input in characters\n",
    "seq_length = 200\n",
    "examples_per_epoch = len(text)//seq_length\n",
    "\n",
    "# Create training examples / targets\n",
    "char_dataset = tf.data.Dataset.from_tensor_slices(text_as_int)\n",
    "sequences = char_dataset.batch(seq_length+1, drop_remainder=True)"
   ]
  },
  {
   "cell_type": "code",
   "execution_count": 6,
   "metadata": {},
   "outputs": [],
   "source": [
    "def split_input_target(chunk):\n",
    "    input_text = chunk[:-1]\n",
    "    target_text = chunk[1:]\n",
    "    return input_text, target_text\n",
    "\n",
    "dataset = sequences.map(split_input_target)"
   ]
  },
  {
   "cell_type": "code",
   "execution_count": 7,
   "metadata": {},
   "outputs": [],
   "source": [
    "BATCH_SIZE = 64\n",
    "steps_per_epoch = examples_per_epoch//BATCH_SIZE\n",
    "\n",
    "# Buffer size to shuffle the dataset\n",
    "# (TF data is designed to work with possibly infinite sequences, \n",
    "# so it doesn't attempt to shuffle the entire sequence in memory. Instead, \n",
    "# it maintains a buffer in which it shuffles elements).\n",
    "BUFFER_SIZE = 10000\n",
    "\n",
    "dataset = dataset.shuffle(BUFFER_SIZE).batch(BATCH_SIZE, drop_remainder=True)"
   ]
  },
  {
   "cell_type": "code",
   "execution_count": 8,
   "metadata": {},
   "outputs": [],
   "source": [
    "# Length of the vocabulary in chars\n",
    "vocab_size = len(vocab)\n",
    "\n",
    "# The embedding dimension \n",
    "embedding_dim = 256\n",
    "\n",
    "# Number of RNN units\n",
    "rnn_units = 1024"
   ]
  },
  {
   "cell_type": "code",
   "execution_count": 9,
   "metadata": {},
   "outputs": [],
   "source": [
    "if tf.test.is_gpu_available():\n",
    "  rnn = tf.keras.layers.CuDNNGRU\n",
    "else:\n",
    "  import functools\n",
    "  rnn = functools.partial(\n",
    "    tf.keras.layers.LSTM, recurrent_activation='sigmoid')      \n",
    "    #tf.keras.layers.GRU, recurrent_activation='sigmoid')"
   ]
  },
  {
   "cell_type": "code",
   "execution_count": 10,
   "metadata": {},
   "outputs": [],
   "source": [
    "def build_model(vocab_size, embedding_dim, rnn_units, batch_size):\n",
    "  model = tf.keras.Sequential([\n",
    "    tf.keras.layers.Embedding(vocab_size, embedding_dim, \n",
    "                              batch_input_shape=[batch_size, None]),\n",
    "    rnn(rnn_units,\n",
    "        return_sequences=True, \n",
    "        recurrent_initializer='glorot_uniform',\n",
    "        stateful=True),\n",
    "    rnn(rnn_units,\n",
    "        return_sequences=True, \n",
    "        recurrent_initializer='glorot_uniform',\n",
    "        stateful=True),      \n",
    "    tf.keras.layers.Dense(vocab_size)\n",
    "  ])\n",
    "  return model"
   ]
  },
  {
   "cell_type": "code",
   "execution_count": 11,
   "metadata": {},
   "outputs": [],
   "source": [
    "model = build_model(\n",
    "  vocab_size = len(vocab), \n",
    "  embedding_dim=embedding_dim, \n",
    "  rnn_units=rnn_units, \n",
    "  batch_size=BATCH_SIZE)"
   ]
  },
  {
   "cell_type": "code",
   "execution_count": 12,
   "metadata": {},
   "outputs": [
    {
     "name": "stdout",
     "output_type": "stream",
     "text": [
      "(64, 200, 87) # (batch_size, sequence_length, vocab_size)\n"
     ]
    }
   ],
   "source": [
    "for input_example_batch, target_example_batch in dataset.take(1): \n",
    "  example_batch_predictions = model(input_example_batch)\n",
    "  print(example_batch_predictions.shape, \"# (batch_size, sequence_length, vocab_size)\")"
   ]
  },
  {
   "cell_type": "code",
   "execution_count": 13,
   "metadata": {},
   "outputs": [
    {
     "name": "stdout",
     "output_type": "stream",
     "text": [
      "_________________________________________________________________\n",
      "Layer (type)                 Output Shape              Param #   \n",
      "=================================================================\n",
      "embedding (Embedding)        (64, None, 256)           22272     \n",
      "_________________________________________________________________\n",
      "cu_dnngru (CuDNNGRU)         (64, None, 1024)          3938304   \n",
      "_________________________________________________________________\n",
      "cu_dnngru_1 (CuDNNGRU)       (64, None, 1024)          6297600   \n",
      "_________________________________________________________________\n",
      "dense (Dense)                (64, None, 87)            89175     \n",
      "=================================================================\n",
      "Total params: 10,347,351\n",
      "Trainable params: 10,347,351\n",
      "Non-trainable params: 0\n",
      "_________________________________________________________________\n"
     ]
    }
   ],
   "source": [
    "model.summary()"
   ]
  },
  {
   "cell_type": "code",
   "execution_count": 14,
   "metadata": {},
   "outputs": [],
   "source": [
    "sampled_indices = tf.random.multinomial(example_batch_predictions[0], num_samples=1) \n",
    "#sample_indices = tf.random.categorical(example_batch_predictions[0], num_samples=1)\n",
    "sampled_indices = tf.squeeze(sampled_indices,axis=-1).numpy()"
   ]
  },
  {
   "cell_type": "code",
   "execution_count": 15,
   "metadata": {},
   "outputs": [],
   "source": [
    "def loss(labels, logits):\n",
    "#   return tf.keras.losses.sparse_categorical_crossentropy(labels, logits, from_logits=True)\n",
    "  return tf.nn.sparse_softmax_cross_entropy_with_logits(labels=labels, logits=logits)\n",
    "\n",
    "example_batch_loss  = loss(target_example_batch, example_batch_predictions)"
   ]
  },
  {
   "cell_type": "code",
   "execution_count": 16,
   "metadata": {},
   "outputs": [],
   "source": [
    "model.compile(\n",
    "    optimizer = tf.train.AdamOptimizer(),\n",
    "    loss = loss)"
   ]
  },
  {
   "cell_type": "code",
   "execution_count": 17,
   "metadata": {},
   "outputs": [],
   "source": [
    "# Directory where the checkpoints will be saved\n",
    "checkpoint_dir = './text100'\n",
    "# Name of the checkpoint files\n",
    "checkpoint_prefix = os.path.join(checkpoint_dir, \"ckpt_{epoch}\")\n",
    "\n",
    "checkpoint_callback=tf.keras.callbacks.ModelCheckpoint(\n",
    "    filepath=checkpoint_prefix,\n",
    "    save_weights_only=True)"
   ]
  },
  {
   "cell_type": "code",
   "execution_count": 18,
   "metadata": {},
   "outputs": [],
   "source": [
    "#EPOCHS=3\n",
    "EPOCHS=31"
   ]
  },
  {
   "cell_type": "code",
   "execution_count": 19,
   "metadata": {},
   "outputs": [
    {
     "name": "stdout",
     "output_type": "stream",
     "text": [
      "Epoch 1/31\n",
      "138/138 [==============================] - 24s 172ms/step - loss: 2.6003\n",
      "Epoch 2/31\n",
      "138/138 [==============================] - 23s 170ms/step - loss: 1.6691\n",
      "Epoch 3/31\n",
      "138/138 [==============================] - 24s 172ms/step - loss: 1.2586\n",
      "Epoch 4/31\n",
      "138/138 [==============================] - 24s 171ms/step - loss: 1.0862\n",
      "Epoch 5/31\n",
      "138/138 [==============================] - 24s 174ms/step - loss: 0.9951\n",
      "Epoch 6/31\n",
      "138/138 [==============================] - 26s 188ms/step - loss: 0.9347\n",
      "Epoch 7/31\n",
      "138/138 [==============================] - 26s 191ms/step - loss: 0.8864\n",
      "Epoch 8/31\n",
      "138/138 [==============================] - 24s 173ms/step - loss: 0.8469\n",
      "Epoch 9/31\n",
      "138/138 [==============================] - 24s 171ms/step - loss: 0.8101\n",
      "Epoch 10/31\n",
      "138/138 [==============================] - 25s 179ms/step - loss: 0.7749\n",
      "Epoch 11/31\n",
      "138/138 [==============================] - 23s 170ms/step - loss: 0.7425\n",
      "Epoch 12/31\n",
      "138/138 [==============================] - 24s 174ms/step - loss: 0.7090\n",
      "Epoch 13/31\n",
      "138/138 [==============================] - 25s 179ms/step - loss: 0.6760\n",
      "Epoch 14/31\n",
      "138/138 [==============================] - 24s 174ms/step - loss: 0.6462\n",
      "Epoch 15/31\n",
      "138/138 [==============================] - 23s 169ms/step - loss: 0.6157\n",
      "Epoch 16/31\n",
      "138/138 [==============================] - 23s 169ms/step - loss: 0.5861\n",
      "Epoch 17/31\n",
      "138/138 [==============================] - 24s 173ms/step - loss: 0.5575\n",
      "Epoch 18/31\n",
      "138/138 [==============================] - 23s 170ms/step - loss: 0.5310\n",
      "Epoch 19/31\n",
      "138/138 [==============================] - 23s 170ms/step - loss: 0.5058\n",
      "Epoch 20/31\n",
      "138/138 [==============================] - 24s 173ms/step - loss: 0.4841\n",
      "Epoch 21/31\n",
      "138/138 [==============================] - 24s 174ms/step - loss: 0.4632\n",
      "Epoch 22/31\n",
      "138/138 [==============================] - 24s 171ms/step - loss: 0.4451\n",
      "Epoch 23/31\n",
      "138/138 [==============================] - 24s 172ms/step - loss: 0.4273\n",
      "Epoch 24/31\n",
      "138/138 [==============================] - 25s 181ms/step - loss: 0.4134\n",
      "Epoch 25/31\n",
      "138/138 [==============================] - 25s 180ms/step - loss: 0.4003\n",
      "Epoch 26/31\n",
      "138/138 [==============================] - 24s 176ms/step - loss: 0.3897\n",
      "Epoch 27/31\n",
      "138/138 [==============================] - 24s 175ms/step - loss: 0.3791\n",
      "Epoch 28/31\n",
      "138/138 [==============================] - 23s 168ms/step - loss: 0.3702\n",
      "Epoch 29/31\n",
      "138/138 [==============================] - 24s 171ms/step - loss: 0.3617\n",
      "Epoch 30/31\n",
      "138/138 [==============================] - 23s 167ms/step - loss: 0.3543\n",
      "Epoch 31/31\n",
      "138/138 [==============================] - 24s 173ms/step - loss: 0.3477\n"
     ]
    }
   ],
   "source": [
    "history = model.fit(dataset.repeat(), epochs=EPOCHS, steps_per_epoch=steps_per_epoch, callbacks=[checkpoint_callback])"
   ]
  },
  {
   "cell_type": "code",
   "execution_count": 20,
   "metadata": {},
   "outputs": [
    {
     "data": {
      "text/plain": [
       "'./text100/ckpt_31'"
      ]
     },
     "execution_count": 20,
     "metadata": {},
     "output_type": "execute_result"
    }
   ],
   "source": [
    "tf.train.latest_checkpoint(checkpoint_dir)"
   ]
  },
  {
   "cell_type": "code",
   "execution_count": 21,
   "metadata": {},
   "outputs": [],
   "source": [
    "model = build_model(vocab_size, embedding_dim, rnn_units, batch_size=1)\n",
    "\n",
    "model.load_weights(tf.train.latest_checkpoint(checkpoint_dir))\n",
    "\n",
    "model.build(tf.TensorShape([1, None]))"
   ]
  },
  {
   "cell_type": "code",
   "execution_count": 22,
   "metadata": {},
   "outputs": [
    {
     "name": "stdout",
     "output_type": "stream",
     "text": [
      "_________________________________________________________________\n",
      "Layer (type)                 Output Shape              Param #   \n",
      "=================================================================\n",
      "embedding_1 (Embedding)      (1, None, 256)            22272     \n",
      "_________________________________________________________________\n",
      "cu_dnngru_2 (CuDNNGRU)       (1, None, 1024)           3938304   \n",
      "_________________________________________________________________\n",
      "cu_dnngru_3 (CuDNNGRU)       (1, None, 1024)           6297600   \n",
      "_________________________________________________________________\n",
      "dense_1 (Dense)              (1, None, 87)             89175     \n",
      "=================================================================\n",
      "Total params: 10,347,351\n",
      "Trainable params: 10,347,351\n",
      "Non-trainable params: 0\n",
      "_________________________________________________________________\n"
     ]
    }
   ],
   "source": [
    "model.summary()"
   ]
  },
  {
   "cell_type": "code",
   "execution_count": 23,
   "metadata": {},
   "outputs": [],
   "source": [
    "def generate_text(model, start_string):\n",
    "  # Evaluation step (generating text using the learned model)\n",
    "\n",
    "  # Number of characters to generate\n",
    "  #num_generate = 1000\n",
    "  num_generate = 1000\n",
    "\n",
    "  # Converting our start string to numbers (vectorizing) \n",
    "  input_eval = [char2idx[s] for s in start_string]\n",
    "  input_eval = tf.expand_dims(input_eval, 0)\n",
    "\n",
    "  # Empty string to store our results\n",
    "  text_generated = []\n",
    "\n",
    "  # Low temperatures results in more predictable text.\n",
    "  # Higher temperatures results in more surprising text.\n",
    "  # Experiment to find the best setting.\n",
    "  #temperature = 1.0\n",
    "  temperature = 1.0\n",
    "\n",
    "  # Here batch size == 1\n",
    "  model.reset_states()\n",
    "  predicted_id = 10;    \n",
    "  for i in range(num_generate):\n",
    "\n",
    "      if predicted_id == 0:\n",
    "        break\n",
    "        \n",
    "      if (predicted_id == 12) and (i > 250):\n",
    "        break\n",
    "      \n",
    "      predictions = model(input_eval)\n",
    "      # remove the batch dimension\n",
    "      predictions = tf.squeeze(predictions, 0)\n",
    "\n",
    "      # using a multinomial distribution to predict the word returned by the model\n",
    "      predictions = predictions / temperature\n",
    "      predicted_id = tf.multinomial(predictions, num_samples=1)[-1,0].numpy()\n",
    "      \n",
    "      # We pass the predicted word as the next input to the model\n",
    "      # along with the previous hidden state\n",
    "      input_eval = tf.expand_dims([predicted_id], 0)\n",
    "      \n",
    "      text_generated.append(idx2char[predicted_id])\n",
    "\n",
    "  return (start_string + ''.join(text_generated))"
   ]
  },
  {
   "cell_type": "code",
   "execution_count": 24,
   "metadata": {},
   "outputs": [
    {
     "name": "stdout",
     "output_type": "stream",
     "text": [
      "Description 1 :\n",
      "The breeding of dark size and its larger se.s are completely extinct from caring the surrounding trees and the butterfly species is their wild sit to depend on the leaves. The hands and feet of the gecko are considered to be vulnerable in their native habitats.\n",
      "\n",
      "Description 2 :\n",
      "The woodlouse is found in warmer areas such as peacocks and Florida to Puffins and even in large summer.Due to the fact that the constant dog ey eye Asian Giant Hornet, the Argentine horned frog will airborne climb with the average gestations per herding snouts and open woodland on is a tropical islands.\n",
      "\n",
      "Description 3 :\n",
      "The spider monkey mainly feeds on algae and brine shrimp diet. In order to help to gather in vegetation although are listed os with the north and souther in colour. The macaroni penguin is the most dominant predator within its environment, mainly hunting more species of fish, crabs, but the bactrian camel is considered to be an endangered species and although they are severely threatened by deforestation of their habitats.\n",
      "\n",
      "Description 4 :\n",
      "The grey seal also has grently to nearly 20cm in their natural habitats. Little is known about the projections of common Zoom that cooled bears then begin to venture out with their mother until they are a year old.Today, many of the spaniel breeding season, particularly those of a hybrid of more than 800 r babys free shock during the night.\n",
      "\n",
      "Description 5 :\n",
      "The grey reef shark is one of the most popular frigatebird species.The Hercules beetle is the largest caiman lizard in the world behind the dark nights which it takes the red wolf packs under the skin native breeds. The diet of the crane inhabit a keen sense of smell that it has n although some species of sea turtle as the Niare November of these features 15 different species often results in their young being studied as vulnerable calls.\n",
      "\n",
      "Description 6 :\n",
      "The great roughly 16 years and 10 years old in captivity. The kiwi is the one who will in the area (also known as the baboon which is present on the environment and therefore spread diseases to the African penguin, the opossum as they are often hunted and eaten.\n",
      "\n",
      "Description 7 :\n",
      "The grey reef shark is also preyed upon by small mammals and reptiles.Emus tend to live in using their long sticky tongue, often able to feed for their food. Both hunting and habitat loss are the most commonly kept for show, many primates including Humans and Enteracting larger predators.\n",
      "\n",
      "Description 8 :\n",
      "The breed is an envidonment so they can still breathe but without having to slow down, rich waters around the coast of South Africa and on only two islands off the Coyote's scientific name with the remaining since the introduction of competition for food.\n",
      "\n",
      "Description 9 :\n",
      "The brown bear has many of the hormouse inhabits. The woodlouse is primarily found around the English Bulldog, and are known to actually range from predators but the American Bulldog was on the vast number of Madagascar, adult bonobos can retract its limbs into its shell to retain anywnerally in colour than older imports and the gas along with them.\n",
      "\n",
      "Description 10 :\n",
      "The gorilla nowby been reefish given usually facility (imerican continent today.According to the world's other insect across the continent.Hine-was 100 learning the group on the ground. There is only forage for varying active for a healthy deer meat, milk and skins.\n",
      "\n",
      "Description 11 :\n",
      "The gopher toles wait until they hatch. In more enormous anacoming places to get to a few inches in length. Stoats can occul with its owner further down the found and moult in the water left alonethere). Food is fed into its mouth using their throat to both moths and the water buffalo to climb heavily built body as well.\n",
      "\n",
      "Description 12 :\n",
      "The grey seal mums leave a short and stocky legs, with a great deal of sugnified and playful and reinfor smaller birds in the world with the average female impala does not hibernate including water starts anch loss and hunting parrots, rocky plains in matter of days.\n",
      "\n",
      "Description 13 :\n",
      "The back is tiny! The gophers are said to be able to catch and kill animals that are discovered. Lions and Leopards weigh around 6 months old, although be threatened by inbreeding leades. The webbed feet of the rod of the female starfish larvae than their parents.\n",
      "\n",
      "Description 14 :\n",
      "The gorilla is fautht for the incredible hein the water. The story of the Siberian cat is a cream coloured tail facility to retain anywntangered species, toads can be identified by the yet oldest to trophies being considered to be endangered. The different species of wallaby is often seen night in pursu the water when they are around hunting and pulling heavy loads due to their sharp front teeth which the desert regions of South America.\n",
      "\n",
      "Description 15 :\n",
      "The domestic pig easily ident both for the Umbrellabird compared to other gorillas. The kudu has three hairs for extinction in the wild, the marine toad ults mate in the wild in the near future due to the fact that female African Bush Elephants reach sexual maturity (canon to humans.\n",
      "\n",
      "Description 16 :\n",
      "The broad reptile was named after the mining town of coral reefs and along the continental shelter. However, of which have been seriously known as the blow hunting of themales could come down to the ground to go for long periods of time. They are naturally many different species of beetle found all over the body, which gives the swan to the nd foraging marsh and a been depictad but only the native features that it has domestic dogs) and enteresting Facts and Features Although natural giant African land snails s have been known to travel more than double the size of a The Persian cat make it to be brushed regularly in order to keep them warm.\n",
      "\n",
      "Description 17 :\n",
      "There are severely threatened on there and continental or delived in the hunt noise of the males. They are very loud, and remarkably, mountain gorillas but will defend their paws and gases that vary in the softer Arctic winters. The main reason for the drastic efoting water so that it can often emerge from the body of the moose.\n",
      "\n",
      "Description 18 :\n",
      "The grey seal has very popular fish.The striped rocket frog has been listed by the IUCN Red List as an animal that is Vulnerable in its surrounding environment. The Arctic hare is therefore found naturally known as Hight including competition for food and nesting swimmers, sea urchins are ganded as quickly as the sea urchin (although as with an American Lion on the open grasslands in western-cennest Koaca.\n",
      "\n",
      "Description 19 :\n",
      "The brown bear and the brown bear predominantly eats plant matter including haking of the eggs after just after the water when it is in fact increasing levels of water and forest three parts.Female turkeys use their strong fennels covered in short supply and worillas, where there could be as few as 50,000 mised Komodo Dragons are being pushed into increasingly is that 9,000 Water-Spalia and family from the head of the gibbon's digest that it can also be found living high in the canopy but will not mate with a male Jodely rockhopper penguin is one of the great apes, a group that include the waters in the worlds oceans, the booby will therefore find a great canopy and should be killed by poachers, caimans and elaborate species.\n",
      "\n",
      "Description 20 :\n",
      "The Humboldt penguin is one of the few penguin species in Leopards in the Southern Hemisphere. The thing of the smallest female mountain lion gives birth to one to look into four categories with the exception of occasionally be able to leaping their protective quetns much more echinnd in its surrounding water in order to survive.\n",
      "\n",
      "Description 21 :\n",
      "The gopher however, has demined shark species including the coyote's tetras usually only being a secret from each other is when kept on the slippery banks that line the coast of the worker monoon. Zonkeys tend to be born in the morning when the crocodilian baby millipedes shed their skin turns from a dominant predator throughout the warm, tropical waters of the Antarctic Ocean and is known to have almost soil and oil poist around 3 to 50 eggs which are located on the top of these regions).\n",
      "\n",
      "Description 22 :\n",
      "The decline in the world's smallest wild tamarin troop which generated the tang is widely spread and fairly comm.Capybary nest meaning that it must spend much of the day searching for food in the surrounding forest. Like other animals such as Tarsiers are the biggest land breeding mammal in many countries around the world, with population numbers are declining with around 35% of the breeding season, becoming destructive.\n",
      "\n",
      "Description 23 :\n"
     ]
    },
    {
     "name": "stdout",
     "output_type": "stream",
     "text": [
      "The backward is generally fossive nature of the dusk and the brown bear posen to breed. Although all the biggest threats to the cross river gorilla is one of the great apes, a group that includes often landing more yellow-eyed penguins is often considered to be either can chew until they are between 15 and 30 pack parrot including forest, savanna and scratch settlements encroach on their surroundings to defend itself against smaller sizes predators in the wild, which disappears to depend on their geographic location.\n",
      "\n",
      "Description 24 :\n",
      "The grey reef shark will therefore only be foundde infants that grow continuously the world.Klack Relationship with Humans The Proboscis Monkey was once also subved teeth with some of the world's ferocious predators that ve and despite it's pigletely from the way down to detect approaching a diption and ferocious predator.\n",
      "\n",
      "Description 25 :\n",
      "The grasshopper is a small species of seming of the gorilla food source, with a wingspan of around 7cm. Elephant's mouth are more distinctively particularly, are commonly captured and sold on the sea floor.Despite their small size, the royal eee primarily eats grunting and catch in the water they need the beginning.\n",
      "\n",
      "Description 26 :\n",
      "The grey seal is one of the smallest species of sea turtle and is the most of combous diet of the gibbon's diet. Gibbons also prey on the continent, they have been found means that the kakapoto allows more than 60 different species of flamingo found around the world since the animal when it is in the air.\n",
      "\n",
      "Description 27 :\n",
      "The gibbon is about the same size and waterproof and hedge hunter. Most cottontop tamarins become much longer than the back legs of a hyena. The magpie is ones found in waters are well-known for its incredibly long tail feathers, they do not interact with one another than forage in the spring between April and May.\n",
      "\n",
      "Description 28 :\n",
      "The brackir is an omnivoria but today the cuttlefish also has a variety of friendlining conditions. After a gestation period that lasts for a couple of years before the female bonobo babies are well delible from 3 to 30 individuals with only a handful tusks after a gestation period that can eat the jungle attempt to have rings, owners that are found most of the daytime hours sleeping in the darkness of the existence of this elegant.\n",
      "\n",
      "Description 29 :\n",
      "The domestic pet budgies will be trained by a large hours rather than on the leaf. Numbat babies are not so nature, this breed actually meaning \"ame sun gnown about the historical range for green leaves in the dense jungle. All Squirrel Monkey populations are intelligent, agile byen an outer shell, it is very still widespread, nature, primarily to clear land for meat.\n",
      "\n",
      "Description 30 :\n",
      "The grizzly bear is thought to breed throughout number of individuals may visultre to be trusted with small temperate wetland habitats across North America today, which famils that are found on the ground, giving the flamingo of a human is this is the largest species of flamingo found in the southern heminds of the Saolad hedgerherfs.\n",
      "\n",
      "Description 31 :\n",
      "The greater kudu is also generally black although some -kephant is the largest of the tropical timbers with should only be treated with anything until they are about a year old, female raccoon to bigger sizes predator in its environment nesting short limbs.\n",
      "\n",
      "Description 32 :\n",
      "The vulture is distract them to negotiate the slippery banks of the possum.The person is a medium-sized bird most commonly found on land, they are very strong parentil size) to survive in its hands. The exact predator of the cuscus.When the gila monster larvae to balance whilst it is larger than many of the larger species of mongoose to survive more successfully in the wild as they are naturally a very varint distances.\n",
      "\n",
      "Description 33 :\n",
      "The zebu it was said to eat it.Firstingale Distribution and Habitat The Affenpinscher was first reserts in these islands that are not only able to recover. In 1956, a rotter part of the island with America and the northern regions of South America; the teeth of the sea-urchin mainly hunts of small fish lined up along the leaves and twigs of the grassy plains.\n",
      "\n",
      "Description 34 :\n",
      "The broadle is very distinctive domestic cat have when very little in the burrow of any mammals.\n",
      "\n",
      "\n",
      "Description 35 :\n",
      "The grey seal are first born and use to acquire dependent on the woodlouse's native regions. Ovales and wildlife. Pheasants have few natural pess a and powerful jaws to crawl into her nest in their teeth, these remarkable fibrous leaves on the ground in which to lay their eggs.\n",
      "\n",
      "Description 36 :\n",
      "The Platypus is a small species of fox found in both dares and different in general. Most dust s changing down on a longer manner they emerge in the beaver' waters. The diet of the zebra shark and other males and smaller species of fish, marine invertebrates, crocodiles, alligators, large fish species are known to hunt young Despite the bright orange Umbrellanich is left to swim awary predators in their natural environment.\n",
      "\n",
      "Description 37 :\n",
      "The Steller's sea cow was a type of freshwater habitats.The budgerigar is a favoured meal of their offsprican Today, the American Coonhound breeding with the horses, and less after a gestation period that can last. Their skin colour of the facial multiol though, before develops rarely attains means that seals are able to be hunted by smaller animals, with semi-dense snail individuals being found in more coastal waters than sighelins.\n",
      "\n",
      "Description 38 :\n",
      "The butterfly fish (shark (known as caroni) in their mouths that vary slightly and may be depending on the species. The smaller snout like a kn, when it can take a fairly large Discus primarily due to habitat loss.Fossa North American states with the exception of females with their young.\n",
      "\n",
      "Description 39 :\n",
      "The common loon has almost completely armadillo the exception of the poodle.Like many open plains Zebra salamanders spend most of their time browsific group of mammals, tall grasses and woodland, where the bumble bee has strong (that covers their bodies that keep them warm when the energy to survive more health and staminately mature in their natural habitats.\n",
      "\n",
      "Description 40 :\n",
      "The brown bear has four large carnivores like Tigers, Lions an other northern Indian rhinos have been listed on the IUCN Red List as an animal that is confined to just two islands in south-east Asia but the guardian island of Madagascar in the Andes mountains.\n",
      "\n",
      "Description 41 :\n",
      "The grey reef shark is found in Thairan colonies are known as birds, badgers, food and then swallow them whole, not ever consemitary animals at them, as a form and widespread up in the wild to be slightly larger than themselves. In areas where small fish species to, and inhabit areas of the Arctic tundra, Tarsiers are thought to be one of the closest relatives that sit can dart across the surrounding trees.\n",
      "\n",
      "Description 42 :\n",
      "The bull shark is well-known for the very south-west tip of the possum of the past. Sumatran rhinoceros have to be browsing to successfully survive in their developing marines in their own, young cuttle, as well as beathes will fight for the first couple of weeks tang to enter captive breeding sites and the both parents help to be more than one blue eye and is prone.\n",
      "\n",
      "Description 43 :\n",
      "The grizzly bear is generally why the water quality of the surrounding trees. Wasps and parts of Chilli and in the rainy waters close to one another using unreen neck and to nearly 1.5 meters long. Female African Clawed Frog's stingrays are sharp and soil and only with some people and goods up which includes sharks, gives birth as metamorphoseful forests and open woodland.\n",
      "\n",
      "Description 44 :\n",
      "The body of the Pirandian Tiger and the Maray who (unnavelage, green plants and big-jungles and forests of South America. The Humboldt penguinful chicks are curved hands than the canamans but vary in size, colour and the and excellent pets in order to gain all of the nutrients that it needs to survive.\n",
      "\n",
      "Description 45 :\n",
      "The brown bear hatches burries and out of the water.Sea lions general African run for Flounding, and pollution and over-hunting by humans, and only loss often has two front arms, allowing Bobcats that become adaptable animals with ship they can before easily after protection.\n",
      "\n",
      "Description 46 :\n"
     ]
    },
    {
     "name": "stdout",
     "output_type": "stream",
     "text": [
      "The brown bear has moroucl group including the plantinces of eld for thes. Most cockroach species breed, the Galapagos penguins have numerous different crocodiles tend to be found more intimidating. Litter size of a Leopard (besides the fact that they are seen as pests by hunters and farmland.\n",
      "\n",
      "Description 47 :\n",
      "The grey reef shark is the coyote set too lunching limit the rat as they have a bear very similar in both size and appearancelld eyes and over a meter long.Tang are found all around the world include the dominant predator that lived around the world. However, the Vampire Bats, it is then tasken in the herd (known as aunties).\n",
      "\n",
      "Description 48 :\n",
      "The brown bear uses to communicate with one another using a series of canine tendence to open their eyes when they are about a year old. The baby flippers of land, but the breed still inhabits a variety of plant and animal shales and other fruits and an hour ound to take a very distinctive \"Koo woodplain with hunters, and despite its heights left out with a handful of Lig that occurs at the end, of the burrow, covered in a few are hunted by the presional Pilled whales grow to nearly 100 million individuals decreding a Walruse once again.\n",
      "\n",
      "Description 49 :\n",
      "The braghin lives when they seem to be startled, at with stoaching the solitary hunter during the native meal for these two species are considered to be critically endangered in its natural environment. Attacks on their fach time generally from food and sempers to survive and their long trunk quite such a different nature of the Jaguar, they are threatened throughout central Europe and Asia where they cannot be presumed, it is widely agate shaped beak and playful towards humans.\n",
      "\n",
      "Description 50 :\n",
      "The pond skater is an instinctive birth in the water crosses the skin which is branching in which to graze nearly a year long. The western lowland gorilla tends to live in groups which are led and protected by the alpha male. The alpha male western gorilla is not thought to be extremely protective of their parents until they are out with legal protection, and both are adaptations that aid it when in the water and although they are not considered terrier ty by the most common loon and the skills they need to survive.\n",
      "\n"
     ]
    }
   ],
   "source": [
    "# print(generate_text(model, start_string=u\"ROMEO\"))\n",
    "# print(generate_text(model, start_string=u\"writing\"))\n",
    "\n",
    "num_dis = 50\n",
    "for i in range (1, num_dis+1):\n",
    "    print(\"Description\",i,\":\")\n",
    "    print(generate_text(model, start_string=u\"The\"))\n",
    "    print(\"\")\n"
   ]
  },
  {
   "cell_type": "code",
   "execution_count": null,
   "metadata": {},
   "outputs": [],
   "source": []
  }
 ],
 "metadata": {
  "kernelspec": {
   "display_name": "Python 3",
   "language": "python",
   "name": "python3"
  },
  "language_info": {
   "codemirror_mode": {
    "name": "ipython",
    "version": 3
   },
   "file_extension": ".py",
   "mimetype": "text/x-python",
   "name": "python",
   "nbconvert_exporter": "python",
   "pygments_lexer": "ipython3",
   "version": "3.6.8"
  }
 },
 "nbformat": 4,
 "nbformat_minor": 2
}
